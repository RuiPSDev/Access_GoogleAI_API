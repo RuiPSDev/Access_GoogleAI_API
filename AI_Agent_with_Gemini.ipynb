{
  "nbformat": 4,
  "nbformat_minor": 0,
  "metadata": {
    "colab": {
      "provenance": [],
      "authorship_tag": "ABX9TyOGTYHZfwumMOp6TrurAbfy",
      "include_colab_link": true
    },
    "kernelspec": {
      "name": "python3",
      "display_name": "Python 3"
    },
    "language_info": {
      "name": "python"
    }
  },
  "cells": [
    {
      "cell_type": "markdown",
      "metadata": {
        "id": "view-in-github",
        "colab_type": "text"
      },
      "source": [
        "<a href=\"https://colab.research.google.com/github/RuiPSDev/Access_GoogleAI_API/blob/main/AI_Agent_with_Gemini.ipynb\" target=\"_parent\"><img src=\"https://colab.research.google.com/assets/colab-badge.svg\" alt=\"Open In Colab\"/></a>"
      ]
    },
    {
      "cell_type": "markdown",
      "source": [
        "## Install the SDK\n",
        "\n",
        "The Python SDK for the GEMINI API is contained in the 'google.generativeai' package."
      ],
      "metadata": {
        "id": "wvURqzbnO9-t"
      }
    },
    {
      "cell_type": "code",
      "execution_count": null,
      "metadata": {
        "id": "-vwk7qSFMuvN"
      },
      "outputs": [],
      "source": [
        "!pip install -q -U google-generativeai"
      ]
    },
    {
      "cell_type": "markdown",
      "source": [
        "## Setup you API Key\n",
        "\n"
      ],
      "metadata": {
        "id": "h-sRYvXSPyx-"
      }
    },
    {
      "cell_type": "code",
      "source": [
        "# import the Python SDK\n",
        "import google.generativeai as genai\n",
        "# used to securily store your API key\n",
        "from google.colab import userdata\n",
        "\n",
        "GOOGLE_API_KEY = userdata.get('GOOGLE_API_KEY')\n",
        "genai.configure(api_key=GOOGLE_API_KEY)"
      ],
      "metadata": {
        "id": "02OIQFHkNIoj"
      },
      "execution_count": null,
      "outputs": []
    },
    {
      "cell_type": "markdown",
      "source": [
        "## List the available Models of AI"
      ],
      "metadata": {
        "id": "7_X7FHEih9Rg"
      }
    },
    {
      "cell_type": "code",
      "source": [
        "for mdl in genai.list_models():\n",
        "  if 'generateContent' in mdl.supported_generation_methods:\n",
        "    print(mdl.name)"
      ],
      "metadata": {
        "colab": {
          "base_uri": "https://localhost:8080/",
          "height": 138
        },
        "id": "3lSgp-ZKiLqo",
        "outputId": "c9cd07b7-86dc-462c-8065-3f62a9a88cc7"
      },
      "execution_count": null,
      "outputs": [
        {
          "output_type": "stream",
          "name": "stdout",
          "text": [
            "models/gemini-1.0-pro\n",
            "models/gemini-1.0-pro-001\n",
            "models/gemini-1.0-pro-latest\n",
            "models/gemini-1.0-pro-vision-latest\n",
            "models/gemini-1.5-pro-latest\n",
            "models/gemini-pro\n",
            "models/gemini-pro-vision\n"
          ]
        }
      ]
    },
    {
      "cell_type": "markdown",
      "source": [
        "## System instructions"
      ],
      "metadata": {
        "id": "MDWe4RhymFAm"
      }
    },
    {
      "cell_type": "code",
      "source": [
        "system_instructions = {\n",
        "    \"top_k\": 1,            #\n",
        "#    \"top_p\": 1,\n",
        "    \"temperature\": 0.5,          # varia de 0 a 1, sendo 1 o mais aleatório ou mais criativo o modelo ficará\n",
        "}\n",
        "\n",
        "safety_params = {\n",
        "    \"HARASSMENT\": \"BLOCK_NONE\",   # todos podem ser: BLOCK_NONE, BLOCK_FEW, BLOCK_SOME, BLOCK_MOST\n",
        "    \"HATE\": \"BLOCK_NONE\",\n",
        "    \"SEXUAL\": \"BLOCK_NONE\",\n",
        "    \"DANGEROUS\": \"BLOCK_NONE\",\n",
        "}"
      ],
      "metadata": {
        "id": "YqEB0cd9mJCh"
      },
      "execution_count": null,
      "outputs": []
    },
    {
      "cell_type": "markdown",
      "source": [
        "## Initialize the Generative Model\n",
        "\n",
        "It needs to be done before you make any API call.\n"
      ],
      "metadata": {
        "id": "XIJXjAHqWTkv"
      }
    },
    {
      "cell_type": "code",
      "source": [
        "model = genai.GenerativeModel(model_name='gemini-1.0-pro',\n",
        "                              generation_config=system_instructions,\n",
        "                              safety_settings=safety_params)"
      ],
      "metadata": {
        "id": "Vw_LTqm9WiIw"
      },
      "execution_count": null,
      "outputs": []
    },
    {
      "cell_type": "markdown",
      "source": [
        "## Start using the Model (sending prompts to the Model)"
      ],
      "metadata": {
        "id": "rugL_Ic5XCYM"
      }
    },
    {
      "cell_type": "code",
      "source": [
        "response = model.generate_content(\"Vamos aprender sobre IA. Dê os 5 tópicos hipados sobre o assunto\")\n",
        "print(response.text)"
      ],
      "metadata": {
        "colab": {
          "base_uri": "https://localhost:8080/",
          "height": 138
        },
        "id": "2YdX3x5sXORT",
        "outputId": "8991e59b-d105-4c96-95df-9a75db9bf84e"
      },
      "execution_count": null,
      "outputs": [
        {
          "output_type": "stream",
          "name": "stdout",
          "text": [
            "**5 Tópicos Hipados sobre Inteligência Artificial (IA):**\n",
            "\n",
            "1. **Aprendizado de Máquina (ML):** Algoritmos que permitem que os computadores aprendam com dados sem serem explicitamente programados.\n",
            "2. **Aprendizado Profundo (DL):** Um subcampo do ML que usa redes neurais artificiais para processar dados complexos, como imagens e linguagem.\n",
            "3. **Processamento de Linguagem Natural (PNL):** IA que permite que os computadores entendam, interpretem e gerem a linguagem humana.\n",
            "4. **Visão Computacional:** IA que permite que os computadores \"vejam\" e interpretem imagens e vídeos.\n",
            "5. **IA Generativa:** IA que pode criar novos dados, como imagens, música e texto, com base em dados de treinamento.\n"
          ]
        }
      ]
    },
    {
      "cell_type": "markdown",
      "source": [
        "## Starting a Chat conversation"
      ],
      "metadata": {
        "id": "u_3io-q90u29"
      }
    },
    {
      "cell_type": "code",
      "source": [
        "chat = model.start_chat(history=[])"
      ],
      "metadata": {
        "id": "cNQU4mSRYuIb"
      },
      "execution_count": null,
      "outputs": []
    },
    {
      "cell_type": "code",
      "source": [
        "prompt = input(\"O que você quer perguntar? -> \")\n",
        "\n",
        "while prompt != \"fim\":\n",
        "  response = chat.send_message(prompt)\n",
        "  print(' Resposta: ', response.text, '\\n')\n",
        "  prompt = input(\"O que você quer perguntar? -> \")"
      ],
      "metadata": {
        "colab": {
          "base_uri": "https://localhost:8080/",
          "height": 295
        },
        "id": "J4bC2xyjtTtc",
        "outputId": "84d015b4-defd-4cce-9d4d-eedb4f540c02"
      },
      "execution_count": null,
      "outputs": [
        {
          "name": "stdout",
          "output_type": "stream",
          "text": [
            "O que você quer perguntar? -> Qual a capital da Índia?\n",
            " Resposta:  Nova Délhi \n",
            "\n",
            "O que você quer perguntar? -> !Qual a comida típica deles?\n",
            " Resposta:  Curry \n",
            "\n",
            "O que você quer perguntar? -> Qual o maior desafio natural eles enfrentam que causa transtornos ao seu cotidiano?\n",
            " Resposta:  Monções \n",
            "\n",
            "O que você quer perguntar? -> Meu primo nasceu nessa cidade, qual a nacionalidade dele?\n",
            " Resposta:  Indian \n",
            "\n",
            "O que você quer perguntar? -> Me diga qual a população atual desse país.\n",
            " Resposta:  1,428 bilhão (estimativa de julho de 2023) \n",
            "\n",
            "O que você quer perguntar? -> fim\n"
          ]
        }
      ]
    },
    {
      "cell_type": "markdown",
      "source": [
        "## Showing the Chat conversation 'History' using markdowns"
      ],
      "metadata": {
        "id": "dLu7mjXO01ml"
      }
    },
    {
      "cell_type": "code",
      "source": [
        "# melhorando a visualização do histórico\n",
        "\n",
        "import textwrap\n",
        "from IPython.display import display\n",
        "from IPython.display import Markdown\n",
        "\n",
        "def to_markdown(text):\n",
        "  text = text.replace('•', '  *')\n",
        "  return Markdown(textwrap.indent(text, '> ', predicate=lambda _: True))\n",
        "\n",
        "# printing the History\n",
        "for message in chat.history:\n",
        "  display(to_markdown(f'**{message.role}**: {message.parts[0].text}'))\n",
        "  print('---------------------------------------------------------')"
      ],
      "metadata": {
        "colab": {
          "base_uri": "https://localhost:8080/",
          "height": 1000
        },
        "id": "jPmBMFrv1gY4",
        "outputId": "97d74144-eac8-4e5b-ff0a-3b54ca3ae6f6"
      },
      "execution_count": null,
      "outputs": [
        {
          "output_type": "display_data",
          "data": {
            "text/plain": [
              "<IPython.core.display.Markdown object>"
            ],
            "text/markdown": "> **user**: Qual é a capital do Japão?"
          },
          "metadata": {}
        },
        {
          "output_type": "stream",
          "name": "stdout",
          "text": [
            "---------------------------------------------------------\n"
          ]
        },
        {
          "output_type": "display_data",
          "data": {
            "text/plain": [
              "<IPython.core.display.Markdown object>"
            ],
            "text/markdown": "> **model**: Tóquio"
          },
          "metadata": {}
        },
        {
          "output_type": "stream",
          "name": "stdout",
          "text": [
            "---------------------------------------------------------\n"
          ]
        },
        {
          "output_type": "display_data",
          "data": {
            "text/plain": [
              "<IPython.core.display.Markdown object>"
            ],
            "text/markdown": "> **user**: Qual é a comida típica desse país?"
          },
          "metadata": {}
        },
        {
          "output_type": "stream",
          "name": "stdout",
          "text": [
            "---------------------------------------------------------\n"
          ]
        },
        {
          "output_type": "display_data",
          "data": {
            "text/plain": [
              "<IPython.core.display.Markdown object>"
            ],
            "text/markdown": "> **model**: Sushi"
          },
          "metadata": {}
        },
        {
          "output_type": "stream",
          "name": "stdout",
          "text": [
            "---------------------------------------------------------\n"
          ]
        },
        {
          "output_type": "display_data",
          "data": {
            "text/plain": [
              "<IPython.core.display.Markdown object>"
            ],
            "text/markdown": "> **user**: Qual o maior perigo natural que ele enfrenta?"
          },
          "metadata": {}
        },
        {
          "output_type": "stream",
          "name": "stdout",
          "text": [
            "---------------------------------------------------------\n"
          ]
        },
        {
          "output_type": "display_data",
          "data": {
            "text/plain": [
              "<IPython.core.display.Markdown object>"
            ],
            "text/markdown": "> **model**: Terremotos"
          },
          "metadata": {}
        },
        {
          "output_type": "stream",
          "name": "stdout",
          "text": [
            "---------------------------------------------------------\n"
          ]
        },
        {
          "output_type": "display_data",
          "data": {
            "text/plain": [
              "<IPython.core.display.Markdown object>"
            ],
            "text/markdown": "> **user**: Qual a capital da Índia?"
          },
          "metadata": {}
        },
        {
          "output_type": "stream",
          "name": "stdout",
          "text": [
            "---------------------------------------------------------\n"
          ]
        },
        {
          "output_type": "display_data",
          "data": {
            "text/plain": [
              "<IPython.core.display.Markdown object>"
            ],
            "text/markdown": "> **model**: Nova Délhi"
          },
          "metadata": {}
        },
        {
          "output_type": "stream",
          "name": "stdout",
          "text": [
            "---------------------------------------------------------\n"
          ]
        },
        {
          "output_type": "display_data",
          "data": {
            "text/plain": [
              "<IPython.core.display.Markdown object>"
            ],
            "text/markdown": "> **user**: !Qual a comida típica deles?"
          },
          "metadata": {}
        },
        {
          "output_type": "stream",
          "name": "stdout",
          "text": [
            "---------------------------------------------------------\n"
          ]
        },
        {
          "output_type": "display_data",
          "data": {
            "text/plain": [
              "<IPython.core.display.Markdown object>"
            ],
            "text/markdown": "> **model**: Curry"
          },
          "metadata": {}
        },
        {
          "output_type": "stream",
          "name": "stdout",
          "text": [
            "---------------------------------------------------------\n"
          ]
        },
        {
          "output_type": "display_data",
          "data": {
            "text/plain": [
              "<IPython.core.display.Markdown object>"
            ],
            "text/markdown": "> **user**: Qual o maior desafio natural eles enfrentam que causa transtornos ao seu cotidiano?"
          },
          "metadata": {}
        },
        {
          "output_type": "stream",
          "name": "stdout",
          "text": [
            "---------------------------------------------------------\n"
          ]
        },
        {
          "output_type": "display_data",
          "data": {
            "text/plain": [
              "<IPython.core.display.Markdown object>"
            ],
            "text/markdown": "> **model**: Monções"
          },
          "metadata": {}
        },
        {
          "output_type": "stream",
          "name": "stdout",
          "text": [
            "---------------------------------------------------------\n"
          ]
        },
        {
          "output_type": "display_data",
          "data": {
            "text/plain": [
              "<IPython.core.display.Markdown object>"
            ],
            "text/markdown": "> **user**: Meu primo nasceu nessa cidade, qual a nacionalidade dele?"
          },
          "metadata": {}
        },
        {
          "output_type": "stream",
          "name": "stdout",
          "text": [
            "---------------------------------------------------------\n"
          ]
        },
        {
          "output_type": "display_data",
          "data": {
            "text/plain": [
              "<IPython.core.display.Markdown object>"
            ],
            "text/markdown": "> **model**: Indian"
          },
          "metadata": {}
        },
        {
          "output_type": "stream",
          "name": "stdout",
          "text": [
            "---------------------------------------------------------\n"
          ]
        },
        {
          "output_type": "display_data",
          "data": {
            "text/plain": [
              "<IPython.core.display.Markdown object>"
            ],
            "text/markdown": "> **user**: Me diga qual a população atual desse país."
          },
          "metadata": {}
        },
        {
          "output_type": "stream",
          "name": "stdout",
          "text": [
            "---------------------------------------------------------\n"
          ]
        },
        {
          "output_type": "display_data",
          "data": {
            "text/plain": [
              "<IPython.core.display.Markdown object>"
            ],
            "text/markdown": "> **model**: 1,428 bilhão (estimativa de julho de 2023)"
          },
          "metadata": {}
        },
        {
          "output_type": "stream",
          "name": "stdout",
          "text": [
            "---------------------------------------------------------\n"
          ]
        }
      ]
    }
  ]
}